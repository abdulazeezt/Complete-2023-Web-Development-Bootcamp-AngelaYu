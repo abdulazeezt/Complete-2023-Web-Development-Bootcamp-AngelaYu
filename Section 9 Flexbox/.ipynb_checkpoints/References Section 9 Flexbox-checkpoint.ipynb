{
 "cells": [
  {
   "cell_type": "markdown",
   "id": "9d4f7af3",
   "metadata": {
    "heading_collapsed": true
   },
   "source": [
    "# Main Axis and Cross axis"
   ]
  },
  {
   "cell_type": "markdown",
   "id": "1c415671",
   "metadata": {
    "hidden": true
   },
   "source": [
    "Main axis is the horizontal direction ( row format ) and Cross axis is the vertical direction ( column) ."
   ]
  },
  {
   "cell_type": "markdown",
   "id": "9b719ccc",
   "metadata": {
    "hidden": true
   },
   "source": []
  },
  {
   "cell_type": "markdown",
   "id": "84906fbe",
   "metadata": {
    "heading_collapsed": true
   },
   "source": [
    "# Flex basis\n"
   ]
  },
  {
   "cell_type": "markdown",
   "id": "c438e410",
   "metadata": {
    "hidden": true
   },
   "source": [
    "Flex basis indicates Individual items width. And should me mentioned inside individual selector. "
   ]
  },
  {
   "cell_type": "markdown",
   "id": "dc3b569c",
   "metadata": {
    "hidden": true
   },
   "source": []
  },
  {
   "cell_type": "code",
   "execution_count": null,
   "id": "dfc0c49a",
   "metadata": {
    "hidden": true
   },
   "outputs": [],
   "source": []
  },
  {
   "cell_type": "code",
   "execution_count": null,
   "id": "09244d09",
   "metadata": {
    "hidden": true
   },
   "outputs": [],
   "source": []
  },
  {
   "cell_type": "code",
   "execution_count": null,
   "id": "f9947a3e",
   "metadata": {
    "hidden": true
   },
   "outputs": [],
   "source": []
  }
 ],
 "metadata": {
  "kernelspec": {
   "display_name": "Python 3 (ipykernel)",
   "language": "python",
   "name": "python3"
  },
  "language_info": {
   "codemirror_mode": {
    "name": "ipython",
    "version": 3
   },
   "file_extension": ".py",
   "mimetype": "text/x-python",
   "name": "python",
   "nbconvert_exporter": "python",
   "pygments_lexer": "ipython3",
   "version": "3.10.5"
  }
 },
 "nbformat": 4,
 "nbformat_minor": 5
}
