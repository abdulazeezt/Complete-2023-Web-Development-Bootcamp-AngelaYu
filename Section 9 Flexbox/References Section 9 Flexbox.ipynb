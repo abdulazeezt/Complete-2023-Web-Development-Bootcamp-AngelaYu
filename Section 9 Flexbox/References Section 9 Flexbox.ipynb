{
 "cells": [
  {
   "cell_type": "markdown",
   "id": "f98b38d8",
   "metadata": {
    "heading_collapsed": true
   },
   "source": [
    "# Main Axis and Cross axis"
   ]
  },
  {
   "cell_type": "markdown",
   "id": "7d1e97ac",
   "metadata": {
    "hidden": true
   },
   "source": [
    "Main axis is the horizontal direction ( row format ) and Cross axis is the vertical direction ( column) ."
   ]
  },
  {
   "cell_type": "markdown",
   "id": "8ddf53fe",
   "metadata": {
    "hidden": true
   },
   "source": []
  },
  {
   "cell_type": "markdown",
   "id": "819395f2",
   "metadata": {},
   "source": [
    "# Flex basis\n"
   ]
  },
  {
   "cell_type": "markdown",
   "id": "dec2f5c0",
   "metadata": {},
   "source": [
    "Flex basis indicates Individual items width. And should me mentioned inside individual selector. "
   ]
  },
  {
   "cell_type": "markdown",
   "id": "bde67ad2",
   "metadata": {},
   "source": [
    "# Creating Layout notes:  \n",
    "(Video: 56 . Flex Layout  2023-12-15 08-54-07-1 )\n"
   ]
  },
  {
   "cell_type": "markdown",
   "id": "50e93517",
   "metadata": {},
   "source": [
    "    Order property.\n",
    "    flexwrap property.\n",
    "          flex-wrap: nowrap;\n"
   ]
  },
  {
   "cell_type": "markdown",
   "id": "8e4d3a64",
   "metadata": {},
   "source": [
    "Testing site : "
   ]
  },
  {
   "cell_type": "code",
   "execution_count": null,
   "id": "1f46e573",
   "metadata": {},
   "outputs": [],
   "source": []
  },
  {
   "cell_type": "markdown",
   "id": "0e8feed8",
   "metadata": {},
   "source": [
    "# CSS cheat sheets for Flexbox( A complete/Must quick guide)\n",
    "CSS Flexbox Tutorial with Flexbox Properties Cheat Sheet"
   ]
  },
  {
   "cell_type": "markdown",
   "id": "26d9dfad",
   "metadata": {},
   "source": [
    "https://www.freecodecamp.org/news/css-flexbox-tutorial-with-cheatsheet/\n",
    "https://www.freecodecamp.org/news/css-flexbox-tutorial-with-cheatsheet/\n",
    "https://css-tricks.com/snippets/css/a-guide-to-flexbox/\n",
    "\n"
   ]
  },
  {
   "cell_type": "markdown",
   "id": "b8c83cf5",
   "metadata": {},
   "source": [
    "https://www.youtube.com/watch?v=7YUR0Igl9eU"
   ]
  },
  {
   "cell_type": "code",
   "execution_count": null,
   "id": "764b8dbb",
   "metadata": {},
   "outputs": [],
   "source": []
  },
  {
   "cell_type": "code",
   "execution_count": null,
   "id": "8f7031d4",
   "metadata": {},
   "outputs": [],
   "source": []
  },
  {
   "cell_type": "code",
   "execution_count": null,
   "id": "49dd9529",
   "metadata": {},
   "outputs": [],
   "source": []
  },
  {
   "cell_type": "code",
   "execution_count": null,
   "id": "71b3e073",
   "metadata": {},
   "outputs": [],
   "source": []
  },
  {
   "cell_type": "code",
   "execution_count": null,
   "id": "fd896ca2",
   "metadata": {},
   "outputs": [],
   "source": []
  }
 ],
 "metadata": {
  "kernelspec": {
   "display_name": "Python 3 (ipykernel)",
   "language": "python",
   "name": "python3"
  },
  "language_info": {
   "codemirror_mode": {
    "name": "ipython",
    "version": 3
   },
   "file_extension": ".py",
   "mimetype": "text/x-python",
   "name": "python",
   "nbconvert_exporter": "python",
   "pygments_lexer": "ipython3",
   "version": "3.10.5"
  }
 },
 "nbformat": 4,
 "nbformat_minor": 5
}
