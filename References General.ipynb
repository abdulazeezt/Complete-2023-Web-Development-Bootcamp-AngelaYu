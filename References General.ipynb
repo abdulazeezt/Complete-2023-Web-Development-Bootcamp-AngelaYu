{
 "cells": [
  {
   "cell_type": "markdown",
   "metadata": {},
   "source": [
    "# Hosting a website in Github"
   ]
  },
  {
   "cell_type": "markdown",
   "metadata": {},
   "source": [
    "    Create a repository . \n",
    "        name : html-portfolio\n",
    "        Desc: Optional\n",
    "\n",
    "    make it public\n",
    "    add a readme file = yes\n",
    "    Goto the repository and Add file and upload file\n",
    "    Goto settings and page change branch to main\n",
    "    Goto settings and Pages and get the below URL.\n",
    "    \n",
    "    Your site is live at \n",
    "    https://abdulazeezt.github.io/html-portfolio/\n"
   ]
  },
  {
   "cell_type": "markdown",
   "metadata": {},
   "source": []
  },
  {
   "cell_type": "code",
   "execution_count": null,
   "metadata": {},
   "outputs": [],
   "source": []
  },
  {
   "cell_type": "markdown",
   "metadata": {},
   "source": [
    "4. Use CSS (not HTML) to make all the images 200px heigh and 200px wide. \n",
    "Hint: \n",
    "https://developer.mozilla.org/en-US/docs/Web/CSS/height\n",
    "https://developer.mozilla.org/en-US/docs/Web/CSS/width\n",
    "-->"
   ]
  },
  {
   "cell_type": "code",
   "execution_count": null,
   "metadata": {},
   "outputs": [],
   "source": []
  },
  {
   "cell_type": "markdown",
   "metadata": {},
   "source": [
    "# Pesticide chrome plugin"
   ]
  },
  {
   "cell_type": "markdown",
   "metadata": {},
   "source": [
    "\n",
    "Pesticide for Chrome\n",
    "51\n",
    "Developer Tools\n",
    "200,000+ users"
   ]
  },
  {
   "cell_type": "markdown",
   "metadata": {},
   "source": [
    "Overview\n",
    "\n",
    "Compatible with your device\n",
    "This extension inserts the Pesticide CSS into the current page, outlining each element to better see placement on the page.\n",
    "This extension inserts the Pesticide CSS into the current page, outlining each element to better see placement on the page.\n",
    "\n",
    "This is a forked copy of Pesticide created originally by Adam Morse:\n",
    "https://github.com/mrmrs/pesticide\n",
    "\n",
    "This copy of Pesticide is created for students on the Complete Web Development Bootcamp by Dr. Angela Yu.\n",
    "https://www.udemy.com/course/the-complete-web-development-bootcamp/\n"
   ]
  },
  {
   "cell_type": "markdown",
   "metadata": {},
   "source": [
    "# Reference site ( Color Palette ) ."
   ]
  },
  {
   "cell_type": "markdown",
   "metadata": {},
   "source": [
    "1 . https://developer.mozilla.org/en-US/docs/Web/CSS/named-color\n"
   ]
  },
  {
   "cell_type": "markdown",
   "metadata": {},
   "source": [
    "2 . https://colorhunt.co/palettes/popular"
   ]
  },
  {
   "cell_type": "code",
   "execution_count": null,
   "metadata": {},
   "outputs": [],
   "source": []
  }
 ],
 "metadata": {
  "kernelspec": {
   "display_name": "Python 3 (ipykernel)",
   "language": "python",
   "name": "python3"
  },
  "language_info": {
   "codemirror_mode": {
    "name": "ipython",
    "version": 3
   },
   "file_extension": ".py",
   "mimetype": "text/x-python",
   "name": "python",
   "nbconvert_exporter": "python",
   "pygments_lexer": "ipython3",
   "version": "3.10.5"
  }
 },
 "nbformat": 4,
 "nbformat_minor": 4
}
