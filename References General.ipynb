{
 "cells": [
  {
   "cell_type": "markdown",
   "metadata": {
    "heading_collapsed": true
   },
   "source": [
    "# Hosting a website in Github"
   ]
  },
  {
   "cell_type": "markdown",
   "metadata": {
    "hidden": true
   },
   "source": [
    "    Create a repository . \n",
    "        name : html-portfolio\n",
    "        Desc: Optional\n",
    "\n",
    "    make it public\n",
    "    add a readme file = yes\n",
    "    Goto the repository and Add file and upload file\n",
    "    Goto settings and page change branch to main\n",
    "    Goto settings and Pages and get the below URL.\n",
    "    \n",
    "    Your site is live at \n",
    "    https://abdulazeezt.github.io/html-portfolio/\n"
   ]
  },
  {
   "cell_type": "markdown",
   "metadata": {
    "hidden": true
   },
   "source": []
  },
  {
   "cell_type": "code",
   "execution_count": null,
   "metadata": {
    "hidden": true
   },
   "outputs": [],
   "source": []
  },
  {
   "cell_type": "markdown",
   "metadata": {
    "hidden": true
   },
   "source": [
    "4. Use CSS (not HTML) to make all the images 200px heigh and 200px wide. \n",
    "Hint: \n",
    "https://developer.mozilla.org/en-US/docs/Web/CSS/height\n",
    "https://developer.mozilla.org/en-US/docs/Web/CSS/width\n",
    "-->"
   ]
  },
  {
   "cell_type": "code",
   "execution_count": null,
   "metadata": {
    "hidden": true
   },
   "outputs": [],
   "source": []
  },
  {
   "cell_type": "markdown",
   "metadata": {},
   "source": [
    "# Pesticide chrome plugin"
   ]
  },
  {
   "cell_type": "markdown",
   "metadata": {},
   "source": [
    "\n",
    "Pesticide for Chrome\n",
    "51\n",
    "Developer Tools\n",
    "200,000+ users"
   ]
  },
  {
   "cell_type": "markdown",
   "metadata": {},
   "source": [
    "Overview\n",
    "\n",
    "Compatible with your device\n",
    "This extension inserts the Pesticide CSS into the current page, outlining each element to better see placement on the page.\n",
    "This extension inserts the Pesticide CSS into the current page, outlining each element to better see placement on the page.\n",
    "\n",
    "This is a forked copy of Pesticide created originally by Adam Morse:\n",
    "https://github.com/mrmrs/pesticide\n",
    "\n",
    "This copy of Pesticide is created for students on the Complete Web Development Bootcamp by Dr. Angela Yu.\n",
    "https://www.udemy.com/course/the-complete-web-development-bootcamp/\n"
   ]
  },
  {
   "cell_type": "markdown",
   "metadata": {},
   "source": [
    "# Reference site ( Color Palette ) ."
   ]
  },
  {
   "cell_type": "markdown",
   "metadata": {},
   "source": [
    "### Color palette"
   ]
  },
  {
   "cell_type": "markdown",
   "metadata": {},
   "source": [
    "1 . https://developer.mozilla.org/en-US/docs/Web/CSS/named-color\n"
   ]
  },
  {
   "cell_type": "markdown",
   "metadata": {},
   "source": [
    "2 . https://colorhunt.co/palettes/popular"
   ]
  },
  {
   "cell_type": "markdown",
   "metadata": {},
   "source": [
    "https://color.adobe.com/create/color-wheel"
   ]
  },
  {
   "cell_type": "markdown",
   "metadata": {},
   "source": [
    "### Programming"
   ]
  },
  {
   "cell_type": "markdown",
   "metadata": {},
   "source": [
    "https://www.youtube.com/shorts/ZtyMdRzvi0w?feature=share\n",
    "Emmet for high speed html programming in VSCode"
   ]
  },
  {
   "cell_type": "markdown",
   "metadata": {},
   "source": [
    "### Language References"
   ]
  },
  {
   "cell_type": "markdown",
   "metadata": {},
   "source": [
    "10 CSS Pro Tips - Code this, NOT that!\n",
    "https://youtu.be/K74l26pE4YA\n",
    "\n",
    "    00:00 CSS is too hard (myth)\n",
    "    00:56 1. Learn the box model\n",
    "    02:00 2. Firefox is Amazeballs\n",
    "    02:31 3. Flexbox is Fantastic\n",
    "    03:34 4. Grid is Great\n",
    "    04:23 5. Clamp it Down\n",
    "    05:09 Bonus: Impress your Boss\n",
    "    05:30 6. Aspect Ratio One-Liner\n",
    "    06:01 7. Variables for variables\n",
    "    06:46 8. Fancy Calculations\n",
    "    07:38 9. State Management Counter\n",
    "    08:18 10. Finding focus-within\n",
    "    09:01 Bonus: Treat an Incurable Disease\n",
    "\n",
    "    "
   ]
  },
  {
   "cell_type": "code",
   "execution_count": null,
   "metadata": {},
   "outputs": [],
   "source": []
  }
 ],
 "metadata": {
  "kernelspec": {
   "display_name": "Python 3",
   "language": "python",
   "name": "python3"
  },
  "language_info": {
   "codemirror_mode": {
    "name": "ipython",
    "version": 3
   },
   "file_extension": ".py",
   "mimetype": "text/x-python",
   "name": "python",
   "nbconvert_exporter": "python",
   "pygments_lexer": "ipython3",
   "version": "3.8.4"
  }
 },
 "nbformat": 4,
 "nbformat_minor": 4
}
