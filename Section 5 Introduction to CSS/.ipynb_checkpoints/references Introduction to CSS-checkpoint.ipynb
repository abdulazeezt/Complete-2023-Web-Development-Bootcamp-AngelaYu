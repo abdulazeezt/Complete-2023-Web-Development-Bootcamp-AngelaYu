{
 "cells": [
  {
   "cell_type": "markdown",
   "id": "4b9c2be1",
   "metadata": {},
   "source": [
    "# MDM docs"
   ]
  },
  {
   "cell_type": "markdown",
   "id": "d771fc3f",
   "metadata": {},
   "source": [
    "### Color palette"
   ]
  },
  {
   "cell_type": "markdown",
   "id": "19ef9771",
   "metadata": {},
   "source": [
    "https://developer.mozilla.org/en-US/docs/Web/CSS/named-color"
   ]
  },
  {
   "cell_type": "markdown",
   "id": "c71a2b92",
   "metadata": {},
   "source": [
    "2 . https://colorhunt.co/palettes/popular"
   ]
  },
  {
   "cell_type": "code",
   "execution_count": null,
   "id": "bb422aff",
   "metadata": {},
   "outputs": [],
   "source": []
  },
  {
   "cell_type": "markdown",
   "id": "559019ce",
   "metadata": {},
   "source": [
    "# External Style Sheet"
   ]
  },
  {
   "cell_type": "markdown",
   "id": "4e3219cf",
   "metadata": {},
   "source": [
    "<!DOCTYPE html>\n",
    "<html lang=\"en\">\n",
    "<head>\n",
    "  <meta charset=\"UTF-8\">\n",
    "  \n",
    "  <title>External</title>\n",
    "  <link rel=\"stylesheet\" href=\"./style.css\">\n",
    "\n",
    "\n",
    "</head>\n",
    "<body>\n",
    "  <h1>Style Me in Green</h1>\n",
    "</body>\n",
    "</html>"
   ]
  },
  {
   "cell_type": "code",
   "execution_count": null,
   "id": "23dc9a7f",
   "metadata": {},
   "outputs": [],
   "source": []
  },
  {
   "cell_type": "code",
   "execution_count": null,
   "id": "c87831c8",
   "metadata": {},
   "outputs": [],
   "source": []
  },
  {
   "cell_type": "code",
   "execution_count": null,
   "id": "b5d74980",
   "metadata": {},
   "outputs": [],
   "source": []
  },
  {
   "cell_type": "code",
   "execution_count": null,
   "id": "a78ce793",
   "metadata": {},
   "outputs": [],
   "source": []
  },
  {
   "cell_type": "code",
   "execution_count": null,
   "id": "b2640bff",
   "metadata": {},
   "outputs": [],
   "source": []
  }
 ],
 "metadata": {
  "kernelspec": {
   "display_name": "Python 3 (ipykernel)",
   "language": "python",
   "name": "python3"
  },
  "language_info": {
   "codemirror_mode": {
    "name": "ipython",
    "version": 3
   },
   "file_extension": ".py",
   "mimetype": "text/x-python",
   "name": "python",
   "nbconvert_exporter": "python",
   "pygments_lexer": "ipython3",
   "version": "3.10.5"
  }
 },
 "nbformat": 4,
 "nbformat_minor": 5
}
