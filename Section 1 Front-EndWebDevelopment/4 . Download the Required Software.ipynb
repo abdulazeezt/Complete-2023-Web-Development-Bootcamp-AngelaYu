{
 "cells": [
  {
   "cell_type": "markdown",
   "metadata": {},
   "source": [
    "#    Download the Required Software"
   ]
  },
  {
   "cell_type": "markdown",
   "metadata": {},
   "source": [
    "1. Install Visual Studio Code\n",
    "\n",
    "This is a free piece of software from Microsoft that you will use to write your code.\n",
    "\n",
    "https://code.visualstudio.com/\n",
    "\n",
    "\n",
    "NOTE: You'll see the Atom editor in some of the videos, this software is now being sunsetted by GitHub and in the coming months all the videos will update to use VS Code. But if you hear me say \"Open Atom\" or \"Inside the Atom editor do...\" just know that you should now use VS Code.\n",
    "\n",
    "\n",
    "2. Install Visual Studio Code Extensions\n",
    "\n",
    "    Extensions are like plugins that extend the functionality of VSCode. Here are the ones that I've installed. Click on the link and then click on the \"install\" button and it should automatically install it in your VSCode application.\n",
    "\n",
    "    Live Preview\n",
    "\n",
    "    Prettier\n",
    "\n",
    "    vscode-icons\n",
    "\n",
    "\n",
    "3. Install Google Chrome\n",
    "\n",
    "    This is a free browser from Google that we need for development. Even if you normally use another browser, I recommend downloading Chrome for their developer tool suite which we will use extensively in the course.\n",
    "\n",
    "https://www.google.com/intl/en_uk/chrome/\n"
   ]
  },
  {
   "cell_type": "code",
   "execution_count": null,
   "metadata": {},
   "outputs": [],
   "source": []
  }
 ],
 "metadata": {
  "kernelspec": {
   "display_name": "Python 3 (ipykernel)",
   "language": "python",
   "name": "python3"
  },
  "language_info": {
   "codemirror_mode": {
    "name": "ipython",
    "version": 3
   },
   "file_extension": ".py",
   "mimetype": "text/x-python",
   "name": "python",
   "nbconvert_exporter": "python",
   "pygments_lexer": "ipython3",
   "version": "3.10.5"
  }
 },
 "nbformat": 4,
 "nbformat_minor": 4
}
