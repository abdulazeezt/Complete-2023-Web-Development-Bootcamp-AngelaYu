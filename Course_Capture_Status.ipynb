{
 "cells": [
  {
   "cell_type": "markdown",
   "metadata": {},
   "source": [
    "# Video Capture Status"
   ]
  },
  {
   "cell_type": "markdown",
   "metadata": {},
   "source": [
    "#####    Section 2 Introduction to HTML : ( Ideapad Gaming ) ."
   ]
  },
  {
   "cell_type": "markdown",
   "metadata": {},
   "source": [
    "        11 . What is HTML 2023-10-01 17-57-47\n",
    "        12 . How to Download the Course Resources 2023-10-01 18-03-23\n",
    "        13 . Html Heading Elements 2023-10-01 18-08-41-1 2023-10-04 15-47-13-1\n",
    "        13 . HTML Heading Elements 2023-10-18 20-11-48\n",
    "        15 . Self Closing Tags 2023-10-19 07-30-38\n",
    "        16. [Project] Movie Ranking"
   ]
  },
  {
   "cell_type": "markdown",
   "metadata": {},
   "source": [
    "##### Section 3 Section 3 Intermediate HTML"
   ]
  },
  {
   "cell_type": "markdown",
   "metadata": {},
   "source": [
    "    \n",
    "    18 . The List Element 2023-10-20 10-23-17\n",
    "    19 . Nesting and Indentation 2023-10-21 13-00-54"
   ]
  },
  {
   "cell_type": "markdown",
   "metadata": {},
   "source": []
  }
 ],
 "metadata": {
  "kernelspec": {
   "display_name": "Python 3",
   "language": "python",
   "name": "python3"
  },
  "language_info": {
   "codemirror_mode": {
    "name": "ipython",
    "version": 3
   },
   "file_extension": ".py",
   "mimetype": "text/x-python",
   "name": "python",
   "nbconvert_exporter": "python",
   "pygments_lexer": "ipython3",
   "version": "3.7.6"
  }
 },
 "nbformat": 4,
 "nbformat_minor": 5
}
