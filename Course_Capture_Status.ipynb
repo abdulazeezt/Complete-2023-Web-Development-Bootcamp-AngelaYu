{
 "cells": [
  {
   "cell_type": "markdown",
   "id": "47388103",
   "metadata": {},
   "source": [
    "# Video Capture Status"
   ]
  },
  {
   "cell_type": "markdown",
   "id": "88dd8838",
   "metadata": {},
   "source": [
    "#####    Section 2 Introduction to HTML : ( Ideapad Gaming ) ."
   ]
  },
  {
   "cell_type": "markdown",
   "id": "212ba919",
   "metadata": {},
   "source": [
    "        11 . What is HTML 2023-10-01 17-57-47\n",
    "        12 . How to Download the Course Resources 2023-10-01 18-03-23\n",
    "        13 . Html Heading Elements 2023-10-01 18-08-41-1 2023-10-04 15-47-13-1\n",
    "        13 . HTML Heading Elements 2023-10-18 20-11-48\n",
    "        15 . Self Closing Tags 2023-10-19 07-30-38\n",
    "        16. [Project] Movie Ranking"
   ]
  },
  {
   "cell_type": "markdown",
   "id": "2cb8e735",
   "metadata": {},
   "source": [
    "##### Section 3 Section 3 Intermediate HTML"
   ]
  },
  {
   "cell_type": "markdown",
   "id": "f42c0026",
   "metadata": {},
   "source": [
    "        18 . The List Element 2023-10-20 10-23-17 Lenovo\n",
    "        19 . Nesting and Indentation 2023-10-21 13-00-54  PC\n",
    "        20 . Anchor Elements 2023-10-21 16-02-46   PC\n",
    "        22 . Project Birthday Invite 2023-10-21 19-11-31.mp4\n",
    "        \n",
    "        \n",
    "\n",
    "        \n",
    "        \n",
    "        "
   ]
  },
  {
   "cell_type": "markdown",
   "id": "799f3aaa",
   "metadata": {},
   "source": [
    "##### Section 4 Multipage websites"
   ]
  },
  {
   "cell_type": "markdown",
   "id": "bb33a26f",
   "metadata": {},
   "source": [
    "     '25 . Computer File Paths 2023-10-22 19-48-56.mp4'\n",
    "     '26 . What are Webpages 2023-10-23 08-00-27.mp4'\n",
    "     '27 . The HTML Boilerplate 2023-10-24_07-11-52.mp4'\n",
    "     '28 . Project Portfolio Website 2023-10-24_07-52-43.mp4'\n",
    "     '29 . How to Host Your Website for Free with GitHub 2023-10-24_11-19-31.mp4\n",
    "     '30 . Introduction to Capstone Projects 2023-10-24_11-29-38.mp4'\n"
   ]
  },
  {
   "cell_type": "markdown",
   "id": "dcba03ae",
   "metadata": {},
   "source": [
    "##### Section 8 Advanced CSS"
   ]
  },
  {
   "cell_type": "markdown",
   "id": "e2e6f220",
   "metadata": {},
   "source": [
    "Complted:\n",
    "    52 . Project - Web Design Agency Website 2023-12-05_12-07-25 "
   ]
  },
  {
   "cell_type": "markdown",
   "id": "ed00a318",
   "metadata": {},
   "source": []
  }
 ],
 "metadata": {
  "kernelspec": {
   "display_name": "Python 3 (ipykernel)",
   "language": "python",
   "name": "python3"
  },
  "language_info": {
   "codemirror_mode": {
    "name": "ipython",
    "version": 3
   },
   "file_extension": ".py",
   "mimetype": "text/x-python",
   "name": "python",
   "nbconvert_exporter": "python",
   "pygments_lexer": "ipython3",
   "version": "3.10.5"
  }
 },
 "nbformat": 4,
 "nbformat_minor": 5
}
