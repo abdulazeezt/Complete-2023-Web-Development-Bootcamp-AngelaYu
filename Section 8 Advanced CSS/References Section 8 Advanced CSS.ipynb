{
 "cells": [
  {
   "cell_type": "markdown",
   "metadata": {},
   "source": [
    "# CSS Display"
   ]
  },
  {
   "cell_type": "markdown",
   "metadata": {},
   "source": [
    "display: inline\n",
    "display: block\n",
    "display: display-block"
   ]
  },
  {
   "cell_type": "markdown",
   "metadata": {},
   "source": [
    "# CSS Float"
   ]
  },
  {
   "cell_type": "markdown",
   "metadata": {},
   "source": [
    "To wrap the text area with another element :\n",
    "\n",
    "\n"
   ]
  },
  {
   "cell_type": "markdown",
   "metadata": {},
   "source": [
    "img{ \n",
    "    float:left; }\n",
    " \n",
    "img{\n",
    "    float:right;\n",
    "    \n",
    "    }\n",
    "\n",
    "#Below will clear all the float values above.\n",
    "footer{\n",
    "        clear:left;\n",
    "}\n"
   ]
  },
  {
   "cell_type": "markdown",
   "metadata": {},
   "source": [
    "\n",
    "  TODO\n",
    "1. By changing only the display property of the CSS make all 3 squares line up horizontally like in goal1 image.\n",
    "2. Change only the display property to make all 3 squares line up vertically like in goal2 image. \n",
    "\n",
    "\n",
    "      /********************************* Solution 1 */\n",
    "      display:inline-block;\n",
    "      /*************************** solution 2 */\n",
    "      display:block;\n"
   ]
  },
  {
   "cell_type": "code",
   "execution_count": null,
   "metadata": {},
   "outputs": [],
   "source": []
  },
  {
   "cell_type": "markdown",
   "metadata": {},
   "source": []
  },
  {
   "cell_type": "markdown",
   "metadata": {},
   "source": [
    "# Responsive websites "
   ]
  },
  {
   "cell_type": "markdown",
   "metadata": {},
   "source": [
    "### Media queries\n",
    "https://developer.mozilla.org/en-US/docs/Web/CSS/CSS_media_queries/Using_media_queries"
   ]
  },
  {
   "cell_type": "code",
   "execution_count": null,
   "metadata": {},
   "outputs": [],
   "source": []
  },
  {
   "cell_type": "code",
   "execution_count": null,
   "metadata": {},
   "outputs": [],
   "source": []
  },
  {
   "cell_type": "code",
   "execution_count": null,
   "metadata": {},
   "outputs": [],
   "source": []
  }
 ],
 "metadata": {
  "kernelspec": {
   "display_name": "Python 3",
   "language": "python",
   "name": "python3"
  },
  "language_info": {
   "codemirror_mode": {
    "name": "ipython",
    "version": 3
   },
   "file_extension": ".py",
   "mimetype": "text/x-python",
   "name": "python",
   "nbconvert_exporter": "python",
   "pygments_lexer": "ipython3",
   "version": "3.7.6"
  }
 },
 "nbformat": 4,
 "nbformat_minor": 5
}
