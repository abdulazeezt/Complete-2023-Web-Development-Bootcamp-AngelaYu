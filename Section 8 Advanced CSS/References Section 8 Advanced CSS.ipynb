{
 "cells": [
  {
   "cell_type": "markdown",
   "id": "0f738c58",
   "metadata": {
    "heading_collapsed": true
   },
   "source": [
    "# CSS Display"
   ]
  },
  {
   "cell_type": "markdown",
   "id": "06f6e816",
   "metadata": {
    "hidden": true
   },
   "source": [
    "display: inline\n",
    "display: block\n",
    "display: display-block"
   ]
  },
  {
   "cell_type": "markdown",
   "id": "d8656adb",
   "metadata": {
    "heading_collapsed": true
   },
   "source": [
    "# CSS Float"
   ]
  },
  {
   "cell_type": "markdown",
   "id": "ca36adb6",
   "metadata": {
    "hidden": true
   },
   "source": [
    "To wrap the text area with another element :\n",
    "\n",
    "\n"
   ]
  },
  {
   "cell_type": "markdown",
   "id": "eda2f855",
   "metadata": {
    "hidden": true
   },
   "source": [
    "img{ \n",
    "    float:left; }\n",
    " \n",
    "img{\n",
    "    float:right;\n",
    "    \n",
    "    }\n",
    "\n",
    "#Below will clear all the float values above.\n",
    "footer{\n",
    "        clear:left;\n",
    "}\n"
   ]
  },
  {
   "cell_type": "markdown",
   "id": "80f743e0",
   "metadata": {
    "hidden": true
   },
   "source": [
    "\n",
    "  TODO\n",
    "1. By changing only the display property of the CSS make all 3 squares line up horizontally like in goal1 image.\n",
    "2. Change only the display property to make all 3 squares line up vertically like in goal2 image. \n",
    "\n",
    "\n",
    "      /********************************* Solution 1 */\n",
    "      display:inline-block;\n",
    "      /*************************** solution 2 */\n",
    "      display:block;\n"
   ]
  },
  {
   "cell_type": "code",
   "execution_count": null,
   "id": "e3ceb081",
   "metadata": {
    "hidden": true
   },
   "outputs": [],
   "source": []
  },
  {
   "cell_type": "markdown",
   "id": "bf76fec1",
   "metadata": {
    "hidden": true
   },
   "source": []
  },
  {
   "cell_type": "markdown",
   "id": "54559857",
   "metadata": {
    "heading_collapsed": true
   },
   "source": [
    "# Responsive websites \n",
    "They are:\n",
    "1. Media Queries. \n",
    "2. CSS Grid. \n",
    "3. CSS flexbox\n",
    "4. External Framework eg,bootstrap\n",
    "\n"
   ]
  },
  {
   "cell_type": "markdown",
   "id": "6eacdc64",
   "metadata": {
    "hidden": true
   },
   "source": [
    "### Media queries\n",
    "https://developer.mozilla.org/en-US/docs/Web/CSS/CSS_media_queries/Using_media_queries"
   ]
  },
  {
   "cell_type": "code",
   "execution_count": null,
   "id": "fea8ecd7",
   "metadata": {
    "hidden": true
   },
   "outputs": [],
   "source": []
  },
  {
   "cell_type": "markdown",
   "id": "45253365",
   "metadata": {
    "hidden": true
   },
   "source": []
  },
  {
   "cell_type": "markdown",
   "id": "ab78f8c9",
   "metadata": {
    "hidden": true
   },
   "source": [
    "### Settings for various screen sizes:"
   ]
  },
  {
   "cell_type": "markdown",
   "id": "2f0cab8e",
   "metadata": {
    "hidden": true
   },
   "source": [
    "\n",
    "TODO: Change the background color for each device\n",
    "[lightsalmon] Mobile Devices: 319px — 480px\n",
    "[powderblue] iPads and Tablets: 481px — 1200px\n",
    "[limegreen] Laptops: 1201px — 1600px\n",
    "[seagreen] Desktops: 1601px and more\n",
    "-->"
   ]
  },
  {
   "cell_type": "code",
   "execution_count": null,
   "id": "42d1aede",
   "metadata": {
    "hidden": true
   },
   "outputs": [],
   "source": []
  },
  {
   "cell_type": "code",
   "execution_count": null,
   "id": "10ed7ffc",
   "metadata": {
    "hidden": true
   },
   "outputs": [],
   "source": []
  },
  {
   "cell_type": "code",
   "execution_count": null,
   "id": "d9ce58f2",
   "metadata": {
    "hidden": true
   },
   "outputs": [],
   "source": []
  },
  {
   "cell_type": "code",
   "execution_count": null,
   "id": "8d32d346",
   "metadata": {
    "hidden": true
   },
   "outputs": [],
   "source": []
  },
  {
   "cell_type": "code",
   "execution_count": null,
   "id": "250c0781",
   "metadata": {
    "hidden": true
   },
   "outputs": [],
   "source": []
  }
 ],
 "metadata": {
  "kernelspec": {
   "display_name": "Python 3 (ipykernel)",
   "language": "python",
   "name": "python3"
  },
  "language_info": {
   "codemirror_mode": {
    "name": "ipython",
    "version": 3
   },
   "file_extension": ".py",
   "mimetype": "text/x-python",
   "name": "python",
   "nbconvert_exporter": "python",
   "pygments_lexer": "ipython3",
   "version": "3.10.5"
  }
 },
 "nbformat": 4,
 "nbformat_minor": 5
}
